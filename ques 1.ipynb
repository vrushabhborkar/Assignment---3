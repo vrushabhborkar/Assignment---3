{
 "cells": [
  {
   "cell_type": "markdown",
   "id": "385ca80c",
   "metadata": {},
   "source": [
    "#### Ques1-\n",
    "#### reverse the following string\n",
    "\n"
   ]
  },
  {
   "cell_type": "code",
   "execution_count": 3,
   "id": "4d31ec63",
   "metadata": {},
   "outputs": [
    {
     "name": "stdout",
     "output_type": "stream",
     "text": [
      "dcba4321\n"
     ]
    }
   ],
   "source": [
    "s1 = \"1234abcd\"\n",
    "s2 = list(s1)\n",
    "s2.reverse()\n",
    "\n",
    "print(''.join(s2))"
   ]
  },
  {
   "cell_type": "code",
   "execution_count": null,
   "id": "7fecee8a",
   "metadata": {},
   "outputs": [],
   "source": []
  }
 ],
 "metadata": {
  "kernelspec": {
   "display_name": "Python 3 (ipykernel)",
   "language": "python",
   "name": "python3"
  },
  "language_info": {
   "codemirror_mode": {
    "name": "ipython",
    "version": 3
   },
   "file_extension": ".py",
   "mimetype": "text/x-python",
   "name": "python",
   "nbconvert_exporter": "python",
   "pygments_lexer": "ipython3",
   "version": "3.10.1"
  }
 },
 "nbformat": 4,
 "nbformat_minor": 5
}
