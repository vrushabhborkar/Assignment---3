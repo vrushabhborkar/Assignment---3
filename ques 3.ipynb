{
 "cells": [
  {
   "cell_type": "markdown",
   "id": "2faa2ed0",
   "metadata": {},
   "source": [
    "#### sample_string = ' The quick Brow Fox'\n",
    "#### output - no. of upper case - 3\n",
    "####          no. of lower case - 12\n"
   ]
  },
  {
   "cell_type": "code",
   "execution_count": 2,
   "id": "c7133042",
   "metadata": {},
   "outputs": [
    {
     "name": "stdout",
     "output_type": "stream",
     "text": [
      "no of lower case-  12\n",
      "no of upper case-  3\n"
     ]
    }
   ],
   "source": [
    "s1 = 'The quick Brow Fox'\n",
    "count=0\n",
    "sum = 0\n",
    "for i in s1:\n",
    "    if i.isupper():\n",
    "        sum=sum+1\n",
    "    elif i.islower():\n",
    "        count=count+1\n",
    "print('no of lower case- ',count)\n",
    "print('no of upper case- ',sum)\n"
   ]
  },
  {
   "cell_type": "code",
   "execution_count": null,
   "id": "b272b1b0",
   "metadata": {},
   "outputs": [],
   "source": []
  }
 ],
 "metadata": {
  "kernelspec": {
   "display_name": "Python 3 (ipykernel)",
   "language": "python",
   "name": "python3"
  },
  "language_info": {
   "codemirror_mode": {
    "name": "ipython",
    "version": 3
   },
   "file_extension": ".py",
   "mimetype": "text/x-python",
   "name": "python",
   "nbconvert_exporter": "python",
   "pygments_lexer": "ipython3",
   "version": "3.10.1"
  }
 },
 "nbformat": 4,
 "nbformat_minor": 5
}
